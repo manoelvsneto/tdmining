{
 "cells": [
  {
   "cell_type": "code",
   "execution_count": 1,
   "metadata": {
    "pycharm": {
     "name": "#%%\n"
    }
   },
   "outputs": [
    {
     "data": {
      "text/plain": "'Code smell created:'"
     },
     "metadata": {},
     "output_type": "display_data"
    },
    {
     "data": {
      "text/plain": "count      122.000000\nmean       757.950820\nstd       2720.958924\nmin          0.000000\n25%          2.000000\n50%         30.500000\n75%        329.500000\nmax      25706.000000\nName: TOTAL_ADD, dtype: float64"
     },
     "metadata": {},
     "output_type": "display_data"
    },
    {
     "data": {
      "text/plain": "<Figure size 640x480 with 1 Axes>",
      "image/png": "[encoded data removed]"
     },
     "metadata": {},
     "output_type": "display_data"
    },
    {
     "data": {
      "text/plain": "'Shapiro-Wilk Test Statistics=0.190, p=0.000'"
     },
     "metadata": {},
     "output_type": "display_data"
    },
    {
     "data": {
      "text/plain": "'Shapiro-Wilk Test Sample does not look Gaussian (reject H0)'"
     },
     "metadata": {},
     "output_type": "display_data"
    },
    {
     "data": {
      "text/plain": "'Kolmogorv-Smirnov Test Statistics=0.748, p=0.000'"
     },
     "metadata": {},
     "output_type": "display_data"
    },
    {
     "data": {
      "text/plain": "'Kolmogorv-Smirnov Test Sample does not look Gaussian (reject H0)'"
     },
     "metadata": {},
     "output_type": "display_data"
    }
   ],
   "source": [
    "from IPython import get_ipython\n",
    "get_ipython().magic('reset -sf')\n",
    "import pyodbc\n",
    "import pandas as pd\n",
    "import scipy.stats as stats\n",
    "from Query import Query\n",
    "from configuration import Configuration\n",
    "from matplotlib import pyplot\n",
    "from IPython.core.display import display\n",
    "pd.set_option('display.max_rows', None)\n",
    "pd.set_option('display.max_colwidth', 200)\n",
    "pd.set_option('display.max_columns', 0)\n",
    "def showData( legenda, coluna, dataframes):\n",
    "    display(legenda + \":\")\n",
    "    totalAdd = dataframes[coluna]\n",
    "    s = pd.Series(totalAdd)\n",
    "    display(s.describe())\n",
    "    pyplot.ylabel('Number of developers')\n",
    "    pyplot.xlabel(legenda)\n",
    "    pyplot.hist(totalAdd,bins=50)\n",
    "    pyplot.show()\n",
    "    alpha = 0.05\n",
    "    stat, p = stats.shapiro(dataframes)\n",
    "    display('Shapiro-Wilk Test Statistics=%.3f, p=%.3f' % (stat, p))\n",
    "    ''' \"Your comment in here.\"'''\n",
    "    if p > alpha:\n",
    "        display('Shapiro-Wilk Test Sample looks Gaussian (fail to reject H0)')\n",
    "    else:\n",
    "        display('Shapiro-Wilk Test Sample does not look Gaussian (reject H0)')\n",
    "\n",
    "    stat, p = stats.kstest(totalAdd,'norm')\n",
    "\n",
    "    display('Kolmogorv-Smirnov Test Statistics=%.3f, p=%.3f' % (stat, p))\n",
    "    if p > alpha:\n",
    "        display('Kolmogorv-Smirnov Test Sample looks Gaussian (fail to reject H0)')\n",
    "    else:\n",
    "        display('Kolmogorv-Smirnov Test Sample does not look Gaussian (reject H0)')\n",
    "\n",
    "\n",
    "def plot():\n",
    "    conn = pyodbc.connect(Configuration.getConfigValue('database_connection'))\n",
    "    query = Query.getQuery('normalidade')\n",
    "    result = pd.read_sql_query(query,conn)\n",
    "    dataframes = pd.DataFrame(result)\n",
    "    if len(dataframes) == 0:\n",
    "        display(\"No data to analyze\")\n",
    "    else:\n",
    "        showData(\"Code smell created\", \"TOTAL_ADD\",dataframes)\n",
    "\n",
    "plot()\n",
    "\n"
   ]
  },
  {
   "cell_type": "code",
   "execution_count": 1,
   "metadata": {},
   "outputs": [],
   "source": []
  }
 ],
 "metadata": {
  "kernelspec": {
   "display_name": "Python 3",
   "language": "python",
   "name": "python3"
  },
  "language_info": {
   "codemirror_mode": {
    "name": "ipython",
    "version": 3
   },
   "file_extension": ".py",
   "mimetype": "text/x-python",
   "name": "python",
   "nbconvert_exporter": "python",
   "pygments_lexer": "ipython3",
   "version": "3.8.5"
  }
 },
 "nbformat": 4,
 "nbformat_minor": 4
}