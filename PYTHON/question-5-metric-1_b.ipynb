{
 "cells": [
  {
   "cell_type": "code",
   "execution_count": 9,
   "metadata": {
    "pycharm": {
     "name": "#%%\n"
    }
   },
   "outputs": [
    {
     "data": {
      "text/plain": "            TOTAL_ADD_CS\nDATA                    \n2003-04-01           805\n2003-04-21           517\n2003-04-24            20\n2003-05-06             8\n2003-05-12           268\n...                  ...\n2020-02-24             4\n2020-02-25             4\n2020-03-03             1\n2020-03-12             2\n2020-03-14             1\n\n[3779 rows x 1 columns]",
      "text/html": "<div>\n<style scoped>\n    .dataframe tbody tr th:only-of-type {\n        vertical-align: middle;\n    }\n\n    .dataframe tbody tr th {\n        vertical-align: top;\n    }\n\n    .dataframe thead th {\n        text-align: right;\n    }\n</style>\n<table border=\"1\" class=\"dataframe\">\n  <thead>\n    <tr style=\"text-align: right;\">\n      <th></th>\n      <th>TOTAL_ADD_CS</th>\n    </tr>\n    <tr>\n      <th>DATA</th>\n      <th></th>\n    </tr>\n  </thead>\n  <tbody>\n    <tr>\n      <th>2003-04-01</th>\n      <td>805</td>\n    </tr>\n    <tr>\n      <th>2003-04-21</th>\n      <td>517</td>\n    </tr>\n    <tr>\n      <th>2003-04-24</th>\n      <td>20</td>\n    </tr>\n    <tr>\n      <th>2003-05-06</th>\n      <td>8</td>\n    </tr>\n    <tr>\n      <th>2003-05-12</th>\n      <td>268</td>\n    </tr>\n    <tr>\n      <th>...</th>\n      <td>...</td>\n    </tr>\n    <tr>\n      <th>2020-02-24</th>\n      <td>4</td>\n    </tr>\n    <tr>\n      <th>2020-02-25</th>\n      <td>4</td>\n    </tr>\n    <tr>\n      <th>2020-03-03</th>\n      <td>1</td>\n    </tr>\n    <tr>\n      <th>2020-03-12</th>\n      <td>2</td>\n    </tr>\n    <tr>\n      <th>2020-03-14</th>\n      <td>1</td>\n    </tr>\n  </tbody>\n</table>\n<p>3779 rows × 1 columns</p>\n</div>"
     },
     "metadata": {},
     "output_type": "display_data"
    },
    {
     "data": {
      "text/plain": "<Figure size 432x288 with 1 Axes>",
      "image/png": "[encoded data removed]"
     },
     "metadata": {
      "needs_background": "light"
     },
     "output_type": "display_data"
    },
    {
     "data": {
      "text/plain": "'Results of Dickey-Fuller Test:'"
     },
     "metadata": {},
     "output_type": "display_data"
    },
    {
     "data": {
      "text/plain": "Test Statistic                  -42.940346\np-value                           0.000000\nLags Used                         1.000000\nNumber of Observations Used    3777.000000\nCritical Value (1%)              -3.432083\nCritical Value (5%)              -2.862306\nCritical Value (10%)             -2.567178\ndtype: float64"
     },
     "metadata": {},
     "output_type": "display_data"
    },
    {
     "data": {
      "text/plain": "'Result adf : The series is  stationary'"
     },
     "metadata": {},
     "output_type": "display_data"
    },
    {
     "data": {
      "text/plain": "'Reject Ho - Time Series is Stationary'"
     },
     "metadata": {},
     "output_type": "display_data"
    },
    {
     "data": {
      "text/plain": "'Results of KPSS Test:'"
     },
     "metadata": {},
     "output_type": "display_data"
    },
    {
     "data": {
      "text/plain": "'KPSS Statistic: 0.09860594259319189'"
     },
     "metadata": {},
     "output_type": "display_data"
    },
    {
     "data": {
      "text/plain": "'p-value: 0.1'"
     },
     "metadata": {},
     "output_type": "display_data"
    },
    {
     "data": {
      "text/plain": "'num lags: 13'"
     },
     "metadata": {},
     "output_type": "display_data"
    },
    {
     "data": {
      "text/plain": "'Critial Values:'"
     },
     "metadata": {},
     "output_type": "display_data"
    },
    {
     "data": {
      "text/plain": "'   10% : 0.347'"
     },
     "metadata": {},
     "output_type": "display_data"
    },
    {
     "data": {
      "text/plain": "'   5% : 0.463'"
     },
     "metadata": {},
     "output_type": "display_data"
    },
    {
     "data": {
      "text/plain": "'   2.5% : 0.574'"
     },
     "metadata": {},
     "output_type": "display_data"
    },
    {
     "data": {
      "text/plain": "'   1% : 0.739'"
     },
     "metadata": {},
     "output_type": "display_data"
    },
    {
     "data": {
      "text/plain": "'Result kpss_test: The series is  stationary'"
     },
     "metadata": {},
     "output_type": "display_data"
    },
    {
     "data": {
      "text/plain": "'Observations: 944 Treino: 755 Teste: 189'"
     },
     "metadata": {},
     "output_type": "display_data"
    },
    {
     "ename": "ValueError",
     "evalue": "min() arg is an empty sequence",
     "output_type": "error",
     "traceback": [
      "\u001B[1;31m---------------------------------------------------------------------------\u001B[0m",
      "\u001B[1;31mValueError\u001B[0m                                Traceback (most recent call last)",
      "\u001B[1;32m~\\AppData\\Local\\Temp\\ipykernel_13276\\3813756737.py\u001B[0m in \u001B[0;36m<module>\u001B[1;34m\u001B[0m\n\u001B[0;32m    274\u001B[0m \u001B[1;33m\u001B[0m\u001B[0m\n\u001B[0;32m    275\u001B[0m \u001B[1;33m\u001B[0m\u001B[0m\n\u001B[1;32m--> 276\u001B[1;33m \u001B[0mmain\u001B[0m\u001B[1;33m(\u001B[0m\u001B[1;33m)\u001B[0m\u001B[1;33m\u001B[0m\u001B[1;33m\u001B[0m\u001B[0m\n\u001B[0m\u001B[0;32m    277\u001B[0m \u001B[1;33m\u001B[0m\u001B[0m\n",
      "\u001B[1;32m~\\AppData\\Local\\Temp\\ipykernel_13276\\3813756737.py\u001B[0m in \u001B[0;36mmain\u001B[1;34m()\u001B[0m\n\u001B[0;32m    251\u001B[0m             \u001B[0mtreino\u001B[0m\u001B[1;33m,\u001B[0m \u001B[0mteste\u001B[0m  \u001B[1;33m=\u001B[0m \u001B[0mrecuperar_dados_train_test\u001B[0m\u001B[1;33m(\u001B[0m\u001B[0mdf\u001B[0m\u001B[1;33m,\u001B[0m\u001B[1;36m0\u001B[0m\u001B[1;33m)\u001B[0m\u001B[1;33m\u001B[0m\u001B[1;33m\u001B[0m\u001B[0m\n\u001B[0;32m    252\u001B[0m             \u001B[1;31m#verify best aic\u001B[0m\u001B[1;33m\u001B[0m\u001B[1;33m\u001B[0m\u001B[1;33m\u001B[0m\u001B[0m\n\u001B[1;32m--> 253\u001B[1;33m             \u001B[0mbest_aic\u001B[0m \u001B[1;33m=\u001B[0m  \u001B[0mmelhor_aic\u001B[0m\u001B[1;33m(\u001B[0m\u001B[0mtreino\u001B[0m\u001B[1;33m)\u001B[0m\u001B[1;33m\u001B[0m\u001B[1;33m\u001B[0m\u001B[0m\n\u001B[0m\u001B[0;32m    254\u001B[0m             \u001B[0maics\u001B[0m\u001B[1;33m.\u001B[0m\u001B[0mappend\u001B[0m\u001B[1;33m(\u001B[0m\u001B[0mbest_aic\u001B[0m\u001B[1;33m)\u001B[0m\u001B[1;33m\u001B[0m\u001B[1;33m\u001B[0m\u001B[0m\n\u001B[0;32m    255\u001B[0m \u001B[1;33m\u001B[0m\u001B[0m\n",
      "\u001B[1;32m~\\AppData\\Local\\Temp\\ipykernel_13276\\3813756737.py\u001B[0m in \u001B[0;36mmelhor_aic\u001B[1;34m(data)\u001B[0m\n\u001B[0;32m     47\u001B[0m         \u001B[1;32mexcept\u001B[0m\u001B[1;33m:\u001B[0m\u001B[1;33m\u001B[0m\u001B[1;33m\u001B[0m\u001B[0m\n\u001B[0;32m     48\u001B[0m             \u001B[1;32mcontinue\u001B[0m\u001B[1;33m\u001B[0m\u001B[1;33m\u001B[0m\u001B[0m\n\u001B[1;32m---> 49\u001B[1;33m     \u001B[0mbest_aic\u001B[0m \u001B[1;33m=\u001B[0m \u001B[0mmin\u001B[0m\u001B[1;33m(\u001B[0m\u001B[0maics\u001B[0m\u001B[1;33m)\u001B[0m\u001B[1;33m\u001B[0m\u001B[1;33m\u001B[0m\u001B[0m\n\u001B[0m\u001B[0;32m     50\u001B[0m     \u001B[0mdisplay\u001B[0m\u001B[1;33m(\u001B[0m\u001B[1;34m\"Melhor AIC Treino : {0} {1}\"\u001B[0m\u001B[1;33m.\u001B[0m\u001B[0mformat\u001B[0m\u001B[1;33m(\u001B[0m\u001B[0mbest_aic\u001B[0m\u001B[1;33m,\u001B[0m \u001B[0mcombs\u001B[0m\u001B[1;33m[\u001B[0m\u001B[0mbest_aic\u001B[0m\u001B[1;33m]\u001B[0m\u001B[1;33m)\u001B[0m\u001B[1;33m)\u001B[0m\u001B[1;33m\u001B[0m\u001B[1;33m\u001B[0m\u001B[0m\n\u001B[0;32m     51\u001B[0m     \u001B[1;32mreturn\u001B[0m \u001B[0mcombs\u001B[0m\u001B[1;33m[\u001B[0m\u001B[0mbest_aic\u001B[0m\u001B[1;33m]\u001B[0m\u001B[1;33m\u001B[0m\u001B[1;33m\u001B[0m\u001B[0m\n",
      "\u001B[1;31mValueError\u001B[0m: min() arg is an empty sequence"
     ]
    }
   ],
   "source": [
    "import itertools\n",
    "import pyodbc\n",
    "from IPython.core.display import display\n",
    "from matplotlib import pyplot\n",
    "from pmdarima import plot_acf, plot_pacf\n",
    "from sklearn.metrics import accuracy_score\n",
    "from statsmodels.tsa.stattools import kpss\n",
    "from Query import Query\n",
    "from configuration import Configuration\n",
    "from statsmodels.tsa.arima_model import ARIMA\n",
    "import matplotlib.pyplot as plt\n",
    "import matplotlib.pyplot as plt3\n",
    "import matplotlib.pyplot as pltForecast\n",
    "import pandas as pd\n",
    "from statsmodels.tsa.stattools import adfuller\n",
    "from math import sqrt\n",
    "import seaborn as sns\n",
    "from sklearn.metrics import  mean_absolute_error\n",
    "import numpy as np\n",
    "from sklearn.metrics import mean_squared_error\n",
    "from pmdarima import model_selection\n",
    "import warnings\n",
    "warnings.filterwarnings('ignore')\n",
    "\n",
    "%matplotlib inline\n",
    "\n",
    "\n",
    "\n",
    "#Referencias de publicações sobre a utilização de bibliotecas python para series temporais.\n",
    "#https://towardsdatascience.com/arima-forecasting-in-python-90d36c2246d3\n",
    "#https://machinelearningmastery.com/backtest-machine-learning-models-time-series-forecasting/\n",
    "\n",
    "\n",
    "def melhor_aic(data):\n",
    "    # Grid Search Best AIC\n",
    "    p = d = q = range(0,8) # p, d, and q can be either 0, 1, or 2\n",
    "    pdq = list(itertools.product(p,d,q)) # gets all possible combinations of p, d, and q\n",
    "    combs = {} # stores aic and order pairs\n",
    "    aics = [] # stores aics\n",
    "    # Grid Search continued\n",
    "    for combination in pdq:\n",
    "        try:\n",
    "            model = ARIMA(data, order=combination) # create all possible models\n",
    "            model = model.fit()\n",
    "            combs.update({model.aic : combination   }) # store combinations\n",
    "            aics.append(model.aic)\n",
    "        except:\n",
    "            continue\n",
    "    best_aic = min(aics)\n",
    "    display(\"Melhor AIC Treino : {0} {1}\".format(best_aic, combs[best_aic]))\n",
    "    return combs[best_aic]\n",
    "\n",
    "def testar_estacionaridade(timeseries):\n",
    "    figsize=(22,8)\n",
    "    lags_plots = 1\n",
    "    wind = 3\n",
    "    timeseries.hist()\n",
    "    pyplot.show()\n",
    "\n",
    "    #Determing rolling statistics\n",
    "    #rolmean = pd.Series(timeseries).rolling(window=wind).mean()\n",
    "    #rolstd = pd.Series(timeseries).rolling(window=wind).std()\n",
    "    #Plot rolling statistics:\n",
    "    #orig = plt.plot(timeseries, color='blue',label='Original')\n",
    "    #mean = plt.plot(rolmean, color='red', label='Rolling Mean')\n",
    "    #std = plt.plot(rolstd, color='black', label = 'Rolling Std')\n",
    "    #plt.legend(loc='best')\n",
    "    #plt.title('Rolling Mean & Standard Deviation')\n",
    "    #plt.show(block=False)\n",
    "\n",
    "    #Perform Dickey-Fuller & KPSS test:\n",
    "    adf_test(timeseries)\n",
    "    kpss_test(timeseries)\n",
    "    #y = pd.Series(timeseries)\n",
    "    #fig = plt.figure()\n",
    "    #ax1 = plt.subplot2grid((3, 3), (0, 0), colspan=2)\n",
    "    #ax2 = plt.subplot2grid((3, 3), (1, 0))\n",
    "    #ax3 = plt.subplot2grid((3, 3), (1, 1))\n",
    "    #ax4 = plt.subplot2grid((3, 3), (2, 0), colspan=2)\n",
    "    #y.plot(ax=ax1, figsize=figsize, color='teal')\n",
    "    #ax1.set_title('Série de code smell')\n",
    "    #plot_acf(y, lags=lags_plots, zero=False, ax=ax2, color='teal')\n",
    "    #plot_pacf(y, lags=lags_plots, zero=False, ax=ax3, method='ols', color='teal')\n",
    "    #sns.distplot(y, bins=int(sqrt(len(y))), ax=ax4, color='teal')\n",
    "    #ax4.set_title('Distribuição dos code smell')\n",
    "    #plt.tight_layout()\n",
    "\n",
    "def adf_test(series):\n",
    "     #Perform Dickey-Fuller test:\n",
    "    display('Results of Dickey-Fuller Test:')\n",
    "    dftest = adfuller(series, autolag='AIC')\n",
    "    dfoutput = pd.Series(dftest[0:4], index=['Test Statistic','p-value','Lags Used','Number of Observations Used'])\n",
    "    for key,value in dftest[4].items():\n",
    "        dfoutput['Critical Value (%s)'%key] = value\n",
    "    display(dfoutput)\n",
    "    #O valor p é maior do que o nível de significância 0,05,\n",
    "    # por isso não é estacionário e diferenciamento é como tal necessário,\n",
    "    # ou seja. d > 0.\n",
    "    display(f'Result adf : The series is {\"not \" if dftest[1] > 0.05 else \"\"} stationary')\n",
    "    if dftest[0] > dftest[4][\"5%\"]:\n",
    "        display (\"Failed to Reject Ho - Time Series is Non-Stationary\")\n",
    "    else:\n",
    "        display (\"Reject Ho - Time Series is Stationary\")\n",
    "\n",
    "\n",
    "\n",
    "def kpss_test(series):\n",
    "    statistic, p_value, n_lags, critical_values = kpss(series, regression='c', nlags=\"auto\")\n",
    "    # Format Output\n",
    "    display('Results of KPSS Test:')\n",
    "    display(f'KPSS Statistic: {statistic}')\n",
    "    display(f'p-value: {p_value}')\n",
    "    display(f'num lags: {n_lags}')\n",
    "    display('Critial Values:')\n",
    "    for key, value in critical_values.items():\n",
    "        display(f'   {key} : {value}')\n",
    "    display(f'Result kpss_test: The series is {\"not \" if p_value < 0.05 else \"\"} stationary')\n",
    "\n",
    "def verificar_erro(orig, prev, nome_col='', nome_indice=''):\n",
    "    vies = np.mean(orig - prev)\n",
    "    mse = mean_squared_error(orig, prev)\n",
    "    rmse = sqrt(mean_squared_error(orig, prev))\n",
    "    mae = mean_absolute_error(orig, prev)\n",
    "    mape = np.mean(np.abs((orig - prev) / orig)) * 100\n",
    "    grupo_erro = [vies, mse, rmse, mae, mape]\n",
    "    serie = pd.DataFrame(grupo_erro, index=['VIÉS','MSE','RMSE','MAE', 'MAPE'], columns=[nome_col])\n",
    "    serie.index.name = nome_indice\n",
    "    display(serie)\n",
    "\n",
    "    #accuracy_score(orig, prev)\n",
    "\n",
    "\n",
    "\n",
    "def recuperar_dados_train_test(df,percentual):\n",
    "    registros = len(df)\n",
    "    qtdTreino = 0\n",
    "    if percentual == 100:\n",
    "        qtdTreino = registros\n",
    "    elif percentual > 0 :\n",
    "        qtdTreino = int( registros / 100 * percentual)\n",
    "    elif percentual == 0 :\n",
    "        qtdTreino = int( registros / 100 * 80)\n",
    "\n",
    "    qtdTest = registros - qtdTreino\n",
    "    treino = df.iloc[:qtdTreino]\n",
    "    teste = df.iloc[qtdTreino:registros]\n",
    "    display('Observations: %d' % registros + ' Treino: %d' % qtdTreino + ' Teste: %d' % qtdTest)\n",
    "    return  treino,teste\n",
    "\n",
    "def recuperar_dataset():\n",
    "    desenvolvedor =  Configuration.getConfigValue('developer_id')\n",
    "    query = Query.getQuery('query_5_1')\n",
    "    ##query = query.replace('{desenvolvedor}',desenvolvedor)\n",
    "    conn = pyodbc.connect(Configuration.getConfigValue('database_connection'))\n",
    "    query_result = pd.read_sql_query(query,conn)\n",
    "    df = pd.DataFrame(query_result)\n",
    "    df['TOTAL_ADD_CS'].astype('float64')\n",
    "    df['DATA'] = pd.to_datetime(df['DATA'], dayfirst=True)\n",
    "    df.sort_values('DATA', inplace=True)\n",
    "    df.set_index('DATA', inplace=True)\n",
    "    df.head()\n",
    "    return df\n",
    "\n",
    "def exibir_grafico_dados_train_test(treino,teste):\n",
    "    plt.figure(figsize=(18,5))\n",
    "    plt.title('Quantidade de code smell do desenvolvedor por mês')\n",
    "    plt.plot(treino, color='teal')\n",
    "    plt.plot(teste, color='orangered')\n",
    "    plt.legend(['Treino','Teste'])\n",
    "    plt.xlabel('DATA')\n",
    "    plt.ylabel('TOTAL_ADD_CS')\n",
    "    plt.show()\n",
    "\n",
    "def exibir_grafico_previsao(original,teste):\n",
    "    plt.clf()\n",
    "    plt.figure(figsize=(18,5))\n",
    "    plt.title('Quantidade de code smell do desenvolvedor por mês')\n",
    "    plt.plot(original, color='orangered')\n",
    "    plt.plot(teste, color='blue')\n",
    "    plt.legend(['Teste','Previsao'])\n",
    "    plt.xlabel('DATA')\n",
    "    plt.ylabel('TOTAL_ADD_CS')\n",
    "    plt.show()\n",
    "\n",
    "def forecast(best_aic,train,test,full):\n",
    "    elements = len(test)\n",
    "    _train = len(train)\n",
    "    _test = len(test)\n",
    "\n",
    "    # Build Model\n",
    "    model = ARIMA(train, order=best_aic)\n",
    "    model_fit = model.fit(disp=-1)\n",
    "\n",
    "    # Forecast\n",
    "    #fc, se, conf = modelo.forecast(elements, alpha=0.05)  # 95% conf\n",
    "    fc, se, conf = model_fit.forecast(elements,alpha=0.05)  # 95% conf\n",
    "\n",
    "    # Make as pandas series\n",
    "    fc_series = pd.Series(fc, index=test.index)\n",
    "    lower_series = pd.Series(conf[:, 0], index=test.index)\n",
    "    upper_series = pd.Series(conf[:, 1], index=test.index)\n",
    "\n",
    "    # Plot\n",
    "    plt.figure(figsize=(12,5), dpi=100)\n",
    "    plt.plot(train, label='training')\n",
    "    plt.plot(test, label='actual')\n",
    "    plt.plot(fc_series, label='forecast')\n",
    "    plt.fill_between(lower_series.index, lower_series, upper_series,\n",
    "                 color='k', alpha=.15)\n",
    "    plt.title('Forecast x Atual')\n",
    "    plt.legend(loc='upper left', fontsize=8)\n",
    "    plt.show()\n",
    "\n",
    "    # Plot residual errors\n",
    "    #residuals = pd.DataFrame(model_fit.resid)\n",
    "    #fig, ax = plt2.subplots(1,2)\n",
    "    #residuals.plot(title=\"Residuals\", ax=ax[0])\n",
    "    #residuals.plot(kind='kde', title='Density', ax=ax[1])\n",
    "    #plt2.show()\n",
    "\n",
    "    # Actual vs Fitted\n",
    "    model_full = ARIMA(full, order=best_aic)\n",
    "    model_fit_full = model_full.fit(disp=-1)\n",
    "    model_fit_full.plot_predict(dynamic=False)\n",
    "\n",
    "    return fc_series\n",
    "\n",
    "\n",
    "\n",
    "def main():\n",
    "    # load dataset\n",
    "    dados = recuperar_dataset()\n",
    "    display(dados)\n",
    "    if len(dados) == 0:\n",
    "        display(\"Não há dados para analisar\")\n",
    "    else:\n",
    "        #check if data train is stationary\n",
    "        testar_estacionaridade(dados['TOTAL_ADD_CS'])\n",
    "\n",
    "        #dados aleatoria para treinar o modelo\n",
    "        quantidade_total = len(dados)\n",
    "        quantidade_fold =  int(quantidade_total / 4)\n",
    "        best_aic = {}\n",
    "        aics = []\n",
    "        treino  = []\n",
    "        teste  = []\n",
    "\n",
    "        for i in range(1,4):\n",
    "            df  = dados.head(quantidade_fold*i)\n",
    "            #split into train and test sets\n",
    "            treino, teste  = recuperar_dados_train_test(df,0)\n",
    "            #verify best aic\n",
    "            best_aic =  melhor_aic(treino)\n",
    "            aics.append(best_aic)\n",
    "\n",
    "        display(aics)\n",
    "        best_aic = min(aics)\n",
    "        display(\"AIC Selcionado : {0} \".format(best_aic))\n",
    "\n",
    "        #show chart line train & test (OPCIONAL)\n",
    "        #exibir_grafico_dados_train_test(treino, teste)\n",
    "\n",
    "        # Train & Forecast\n",
    "        fc_series   = forecast(best_aic,treino,teste,dados)\n",
    "\n",
    "        #Gerando grafico previsao\n",
    "        exibir_grafico_previsao(teste[\"TOTAL_ADD_CS\"],fc_series)\n",
    "\n",
    "        #Exibindo os erros\n",
    "        verificar_erro(teste[\"INDICE_ESFORCO\"],fc_series)\n",
    "\n",
    "        #Exibindo os dados de origem\n",
    "        display(dados)\n",
    "\n",
    "\n",
    "main()"
   ]
  },
  {
   "cell_type": "code",
   "execution_count": null,
   "metadata": {
    "pycharm": {
     "name": "#%%"
    }
   },
   "outputs": [],
   "source": []
  }
 ],
 "metadata": {
  "kernelspec": {
   "display_name": "Python 3",
   "language": "python",
   "name": "python3"
  },
  "language_info": {
   "codemirror_mode": {
    "name": "ipython",
    "version": 3
   },
   "file_extension": ".py",
   "mimetype": "text/x-python",
   "name": "python",
   "nbconvert_exporter": "python",
   "pygments_lexer": "ipython3",
   "version": "3.8.5"
  }
 },
 "nbformat": 4,
 "nbformat_minor": 4
}