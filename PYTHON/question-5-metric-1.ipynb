{
 "cells": [
  {
   "cell_type": "code",
   "execution_count": null,
   "metadata": {
    "pycharm": {
     "name": "#%%\n",
     "is_executing": true
    }
   },
   "outputs": [
    {
     "data": {
      "text/plain": "'Results of Dickey-Fuller Test:'"
     },
     "metadata": {},
     "output_type": "display_data"
    },
    {
     "data": {
      "text/plain": "Test Statistic                  -42.940346\np-value                           0.000000\nLags Used                         1.000000\nNumber of Observations Used    3777.000000\nCritical Value (1%)              -3.432083\nCritical Value (5%)              -2.862306\nCritical Value (10%)             -2.567178\ndtype: float64"
     },
     "metadata": {},
     "output_type": "display_data"
    },
    {
     "data": {
      "text/plain": "'Result adf : The series is  stationary'"
     },
     "metadata": {},
     "output_type": "display_data"
    },
    {
     "data": {
      "text/plain": "'Reject Ho - Time Series is Stationary'"
     },
     "metadata": {},
     "output_type": "display_data"
    },
    {
     "data": {
      "text/plain": "'Results of KPSS Test:'"
     },
     "metadata": {},
     "output_type": "display_data"
    },
    {
     "data": {
      "text/plain": "'KPSS Statistic: 0.09860594259319189'"
     },
     "metadata": {},
     "output_type": "display_data"
    },
    {
     "data": {
      "text/plain": "'p-value: 0.1'"
     },
     "metadata": {},
     "output_type": "display_data"
    },
    {
     "data": {
      "text/plain": "'num lags: 13'"
     },
     "metadata": {},
     "output_type": "display_data"
    },
    {
     "data": {
      "text/plain": "'Critial Values:'"
     },
     "metadata": {},
     "output_type": "display_data"
    },
    {
     "data": {
      "text/plain": "'   10% : 0.347'"
     },
     "metadata": {},
     "output_type": "display_data"
    },
    {
     "data": {
      "text/plain": "'   5% : 0.463'"
     },
     "metadata": {},
     "output_type": "display_data"
    },
    {
     "data": {
      "text/plain": "'   2.5% : 0.574'"
     },
     "metadata": {},
     "output_type": "display_data"
    },
    {
     "data": {
      "text/plain": "'   1% : 0.739'"
     },
     "metadata": {},
     "output_type": "display_data"
    },
    {
     "data": {
      "text/plain": "'Result kpss_test: The series is  stationary'"
     },
     "metadata": {},
     "output_type": "display_data"
    },
    {
     "data": {
      "text/plain": "'Observations: 944 Treino: 755 Teste: 189'"
     },
     "metadata": {},
     "output_type": "display_data"
    }
   ],
   "source": [
    "import itertools\n",
    "import pyodbc\n",
    "from IPython.core.display import display\n",
    "from statsmodels.tsa.stattools import kpss\n",
    "from Query import Query\n",
    "from configuration import Configuration\n",
    "from statsmodels.tsa.arima_model import ARIMA\n",
    "import matplotlib.pyplot as plt\n",
    "import pandas as pd\n",
    "from statsmodels.tsa.stattools import adfuller\n",
    "import warnings\n",
    "warnings.filterwarnings('ignore')\n",
    "%matplotlib inline\n",
    "pd.set_option('display.max_rows', None)\n",
    "pd.set_option('display.max_colwidth', 200)\n",
    "pd.set_option('display.max_columns', 0)\n",
    "quantidadeSubSets = int( Configuration.getConfigValue('QUESTION5_METRIC1_SUBSSETS'))\n",
    "from sklearn.metrics import mean_absolute_percentage_error\n",
    "\n",
    "#Referencias de publicações sobre a utilização de bibliotecas python para series temporais.\n",
    "#https://towardsdatascience.com/arima-forecasting-in-python-90d36c2246d3\n",
    "#https://machinelearningmastery.com/backtest-machine-learning-models-time-series-forecasting/\n",
    "\n",
    "\n",
    "def melhor_aic(data):\n",
    "    # Grid Search Best AIC\n",
    "    p = d = q = range(0,8) # p, d, and q can be either 0, 1, or 2\n",
    "    pdq = list(itertools.product(p,d,q)) # gets all possible combinations of p, d, and q\n",
    "    combs = {} # stores aic and order pairs\n",
    "    aics = [] # stores aics\n",
    "    # Grid Search continued\n",
    "    for combination in pdq:\n",
    "        try:\n",
    "            model = ARIMA(data, order=combination) # create all possible models\n",
    "            model = model.fit()\n",
    "            combs.update({model.aic : combination   }) # store combinations\n",
    "            aics.append(model.aic)\n",
    "        except:\n",
    "            continue\n",
    "    best_aic = min(aics)\n",
    "    display(\"Melhor AIC Treino : {0} {1}\".format(best_aic, combs[best_aic]))\n",
    "    return combs[best_aic]\n",
    "\n",
    "def testar_estacionaridade(timeseries):\n",
    "    adf_test(timeseries)\n",
    "    kpss_test(timeseries)\n",
    "\n",
    "def adf_test(series):\n",
    "     #Perform Dickey-Fuller test:\n",
    "    display('Results of Dickey-Fuller Test:')\n",
    "    dftest = adfuller(series, autolag='AIC')\n",
    "    dfoutput = pd.Series(dftest[0:4], index=['Test Statistic','p-value','Lags Used','Number of Observations Used'])\n",
    "    for key,value in dftest[4].items():\n",
    "        dfoutput['Critical Value (%s)'%key] = value\n",
    "    display(dfoutput)\n",
    "    #O valor p é maior do que o nível de significância 0,05,\n",
    "    # por isso não é estacionário e diferenciamento é como tal necessário,\n",
    "    # ou seja. d > 0.\n",
    "    display(f'Result adf : The series is {\"not \" if dftest[1] > 0.05 else \"\"} stationary')\n",
    "    if dftest[0] > dftest[4][\"5%\"]:\n",
    "        display (\"Failed to Reject Ho - Time Series is Non-Stationary\")\n",
    "    else:\n",
    "        display (\"Reject Ho - Time Series is Stationary\")\n",
    "\n",
    "\n",
    "def kpss_test(series):\n",
    "    statistic, p_value, n_lags, critical_values = kpss(series, regression='c', nlags=\"auto\")\n",
    "    # Format Output\n",
    "    display('Results of KPSS Test:')\n",
    "    display(f'KPSS Statistic: {statistic}')\n",
    "    display(f'p-value: {p_value}')\n",
    "    display(f'num lags: {n_lags}')\n",
    "    display('Critial Values:')\n",
    "    for key, value in critical_values.items():\n",
    "        display(f'   {key} : {value}')\n",
    "    display(f'Result kpss_test: The series is {\"not \" if p_value < 0.05 else \"\"} stationary')\n",
    "\n",
    "\n",
    "def forecast_accuracy(forecast, actual):\n",
    "    mapeb = mean_absolute_percentage_error(actual, forecast)\n",
    "    display({'mape':mapeb})\n",
    "    #mape = np.mean(np.abs(forecast - actual)/np.abs(actual))  # MAPE\n",
    "    #me = np.mean(forecast - actual)             # ME\n",
    "    #mae = np.mean(np.abs(forecast - actual))    # MAE\n",
    "    #mpe = np.mean((forecast - actual)/actual)   # MPE\n",
    "    #rmse = np.mean((forecast - actual)**2)**.5  # RMSE\n",
    "    #corr = np.corrcoef(forecast, actual)[0,1]   # corr\n",
    "    #mins = np.amin(np.hstack([forecast[:,None],                         actual[:,None]]), axis=1)\n",
    "    #maxs = np.amax(np.hstack([forecast[:,None],actual[:,None]]), axis=1)\n",
    "    #minmax = 1 - np.mean(mins/maxs)             # minmax\n",
    "    #return({'mape':mape, 'me':me, 'mae': mae,'mpe': mpe, 'rmse':rmse,'corr':corr, 'minmax':minmax})\n",
    "\n",
    "\n",
    "def recuperar_dados_train_test(df):\n",
    "    registros = len(df)\n",
    "    qtdTreino = int( registros / 100 * 80)\n",
    "    qtdTest = registros - qtdTreino\n",
    "    treino = df.iloc[:qtdTreino]\n",
    "    teste = df.iloc[qtdTreino:registros]\n",
    "    display('Observations: %d' % registros + ' Treino: %d' % qtdTreino + ' Teste: %d' % qtdTest)\n",
    "    return  treino,teste\n",
    "\n",
    "def recuperar_dataset():\n",
    "    query = Query.getQuery('query_5_1')\n",
    "    conn = pyodbc.connect(Configuration.getConfigValue('database_connection'))\n",
    "    query_result = pd.read_sql_query(query,conn)\n",
    "    df = pd.DataFrame(query_result)\n",
    "    df['TOTAL_ADD_CS'].astype('float64')\n",
    "    df['DATA'] = pd.to_datetime(df['DATA'], dayfirst=True)\n",
    "    df.sort_values('DATA', inplace=True)\n",
    "    df.set_index('DATA', inplace=True)\n",
    "    df.head()\n",
    "    return df\n",
    "\n",
    "def forecast(best_aic,train,test,full):\n",
    "    elements = len(test)\n",
    "    _train = len(train)\n",
    "    _test = len(test)\n",
    "\n",
    "    # Build Model\n",
    "    model = ARIMA(train, order=best_aic)\n",
    "    model_fit = model.fit(disp=-1)\n",
    "\n",
    "    # Forecast\n",
    "    fc, se, conf = model_fit.forecast(elements,alpha=0.05)  # 95% conf\n",
    "\n",
    "    #Exibindo os erros\n",
    "    forecast_accuracy(fc,test[\"TOTAL_ADD_CS\"].values)\n",
    "\n",
    "    # Make as pandas series\n",
    "    fc_series = pd.Series(fc, index=test.index)\n",
    "    lower_series = pd.Series(conf[:, 0], index=test.index)\n",
    "    upper_series = pd.Series(conf[:, 1], index=test.index)\n",
    "\n",
    "    # Plot\n",
    "    plt.figure(figsize=(12,5), dpi=100)\n",
    "    plt.plot(train, label='training')\n",
    "    plt.plot(test, label='actual')\n",
    "    plt.plot(fc_series, label='forecast')\n",
    "    plt.fill_between(lower_series.index, lower_series, upper_series,color='k', alpha=.15)\n",
    "    plt.title('Forecast x Atual')\n",
    "    plt.legend(loc='upper left', fontsize=8)\n",
    "    plt.ylabel(\"Quantidade de code smell adicionado\")\n",
    "    plt.xlabel(\"Mês/Ano\")\n",
    "    plt.show()\n",
    "\n",
    "    # Actual vs Fitted\n",
    "    #model_full = ARIMA(full, order=best_aic)\n",
    "    #model_fit_full = model_full.fit(disp=-1)\n",
    "    #model_fit_full.plot_predict(dynamic=False)\n",
    "    #display(model_fit.summary())\n",
    "\n",
    "\n",
    "def main():\n",
    "    # load dataset\n",
    "    dados = recuperar_dataset()\n",
    "    if len(dados) == 0:\n",
    "        display(\"Não há dados para analisar\")\n",
    "    else:\n",
    "        quantidade_total = len(dados)\n",
    "        quantidade_fold =  int(quantidade_total / quantidadeSubSets)\n",
    "\n",
    "        #check if data train is stationary]\n",
    "        testar_estacionaridade(dados['TOTAL_ADD_CS'].values)\n",
    "\n",
    "        #dados aleatoria para treinar o modelo\n",
    "        best_aic = {}\n",
    "        aics = []\n",
    "        treino  = []\n",
    "        teste  = []\n",
    "\n",
    "        for i in range(1,quantidadeSubSets):\n",
    "            df  = dados.head(quantidade_fold*i)\n",
    "            #split into train and test sets\n",
    "            treino, teste  = recuperar_dados_train_test(df)\n",
    "             #verify best aic\n",
    "            best_aic =  melhor_aic(treino)\n",
    "            aics.append(best_aic)\n",
    "\n",
    "        best_aic = min(aics)\n",
    "        display(\"AIC Selcionado : {0} \".format(best_aic))\n",
    "\n",
    "        # Train & Forecast\n",
    "        forecast(best_aic,treino,teste,dados)\n",
    "\n",
    "\n",
    "main()"
   ]
  },
  {
   "cell_type": "code",
   "execution_count": null,
   "metadata": {
    "pycharm": {
     "name": "#%%",
     "is_executing": true
    }
   },
   "outputs": [],
   "source": []
  }
 ],
 "metadata": {
  "kernelspec": {
   "display_name": "Python 3",
   "language": "python",
   "name": "python3"
  },
  "language_info": {
   "codemirror_mode": {
    "name": "ipython",
    "version": 3
   },
   "file_extension": ".py",
   "mimetype": "text/x-python",
   "name": "python",
   "nbconvert_exporter": "python",
   "pygments_lexer": "ipython3",
   "version": "3.8.5"
  }
 },
 "nbformat": 4,
 "nbformat_minor": 4
}