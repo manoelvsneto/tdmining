{
 "cells": [
  {
   "cell_type": "code",
   "execution_count": 7,
   "metadata": {},
   "outputs": [
    {
     "data": {
      "text/plain": "'Gráfico de disperção'"
     },
     "metadata": {},
     "output_type": "display_data"
    },
    {
     "data": {
      "text/plain": "<Figure size 432x288 with 1 Axes>",
      "image/png": "[encoded data removed]"
     },
     "metadata": {
      "needs_background": "light"
     },
     "output_type": "display_data"
    },
    {
     "data": {
      "text/plain": "'Spearman: Quantidade de commits x Quantidade de code smells = 0.7965628790528839'"
     },
     "metadata": {},
     "output_type": "display_data"
    },
    {
     "data": {
      "text/plain": "'Spearman: p=5.377181753913002e-28'"
     },
     "metadata": {},
     "output_type": "display_data"
    },
    {
     "data": {
      "text/plain": "'Pearson: Quantidade de commits x Quantidade de code smells = 0.9296930298768734'"
     },
     "metadata": {},
     "output_type": "display_data"
    },
    {
     "data": {
      "text/plain": "'Pearson: p=6.94615887723707e-54'"
     },
     "metadata": {},
     "output_type": "display_data"
    }
   ],
   "source": [
    "from IPython import get_ipython\n",
    "get_ipython().magic('reset -sf')\n",
    "import pyodbc\n",
    "import pandas as pd\n",
    "import scipy.stats as stats\n",
    "from Query import Query\n",
    "from configuration import Configuration\n",
    "from matplotlib import pyplot\n",
    "from IPython.core.display import display\n",
    "pd.set_option('display.max_rows', None)\n",
    "pd.set_option('display.max_colwidth', 200)\n",
    "pd.set_option('display.max_columns', 0)\n",
    "\n",
    "def showData(x,y,data):\n",
    "     display ('Gráfico de disperção')\n",
    "     data_x = data[x]\n",
    "     data_y = data[y]\n",
    "     pyplot.scatter(data_x, data_y)\n",
    "     pyplot.xlabel(\"Quantidade de code smells\")\n",
    "     pyplot.ylabel(\"Quantidade de commits\")\n",
    "     pyplot.show()\n",
    "     r, p = stats.stats.spearmanr(data_x, data_y)\n",
    "     display( \"Spearman: Quantidade de commits x Quantidade de code smells = {0}\".format(r))\n",
    "     display(\"Spearman: p={0}\".format(p))\n",
    "     r, p = stats.stats.pearsonr(data_x, data_y)\n",
    "     display( \"Pearson: Quantidade de commits x Quantidade de code smells = {0}\".format(r))\n",
    "     display(\"Pearson: p={0}\".format(p))\n",
    "\n",
    "\n",
    "\n",
    "def plot():\n",
    "    conn = pyodbc.connect(Configuration.getConfigValue('database_connection'))\n",
    "    query = Query.getQuery('hipotese')\n",
    "    result = pd.read_sql_query(query,conn)\n",
    "    dataframes = pd.DataFrame(result)\n",
    "    if len(dataframes) == 0:\n",
    "        display(\"Não há dados para analisar\")\n",
    "    else:\n",
    "        showData(\"TOTAL_ADD\",\"TOTAL_COMMITS\" ,dataframes)\n",
    "\n",
    "plot()"
   ]
  },
  {
   "cell_type": "code",
   "execution_count": 7,
   "metadata": {},
   "outputs": [],
   "source": []
  }
 ],
 "metadata": {
  "kernelspec": {
   "display_name": "Python 3",
   "language": "python",
   "name": "python3"
  },
  "language_info": {
   "codemirror_mode": {
    "name": "ipython",
    "version": 3
   },
   "file_extension": ".py",
   "mimetype": "text/x-python",
   "name": "python",
   "nbconvert_exporter": "python",
   "pygments_lexer": "ipython3",
   "version": "3.8.5"
  }
 },
 "nbformat": 4,
 "nbformat_minor": 1
}