{
 "cells": [
  {
   "cell_type": "code",
   "execution_count": 2,
   "metadata": {},
   "outputs": [
    {
     "data": {
      "text/plain": "    support                                                                                                               itemsets\n0  0.560645                                                                     (S1192 - String literals should not be duplicated)\n1  0.454623                                                                    (S121 - Control structures should use curly braces)\n2  0.064546                                                      (S1142 - Functions should not contain too many return statements)\n3  0.103732                                                     (S3776 - Cognitive Complexity of functions should not be too high)\n4  0.070568                                                                     (S1481 - Unused local variables should be removed)\n5  0.050975                                                            (S101 - Class names should comply with a naming convention)\n6  0.185666                  (S121 - Control structures should use curly braces, S1192 - String literals should not be duplicated)\n7  0.066412   (S1192 - String literals should not be duplicated, S3776 - Cognitive Complexity of functions should not be too high)\n8  0.061154  (S121 - Control structures should use curly braces, S3776 - Cognitive Complexity of functions should not be too high)\n9  0.051315                   (S1192 - String literals should not be duplicated, S1481 - Unused local variables should be removed)",
      "text/html": "<div>\n<style scoped>\n    .dataframe tbody tr th:only-of-type {\n        vertical-align: middle;\n    }\n\n    .dataframe tbody tr th {\n        vertical-align: top;\n    }\n\n    .dataframe thead th {\n        text-align: right;\n    }\n</style>\n<table border=\"1\" class=\"dataframe\">\n  <thead>\n    <tr style=\"text-align: right;\">\n      <th></th>\n      <th>support</th>\n      <th>itemsets</th>\n    </tr>\n  </thead>\n  <tbody>\n    <tr>\n      <th>0</th>\n      <td>0.560645</td>\n      <td>(S1192 - String literals should not be duplicated)</td>\n    </tr>\n    <tr>\n      <th>1</th>\n      <td>0.454623</td>\n      <td>(S121 - Control structures should use curly braces)</td>\n    </tr>\n    <tr>\n      <th>2</th>\n      <td>0.064546</td>\n      <td>(S1142 - Functions should not contain too many return statements)</td>\n    </tr>\n    <tr>\n      <th>3</th>\n      <td>0.103732</td>\n      <td>(S3776 - Cognitive Complexity of functions should not be too high)</td>\n    </tr>\n    <tr>\n      <th>4</th>\n      <td>0.070568</td>\n      <td>(S1481 - Unused local variables should be removed)</td>\n    </tr>\n    <tr>\n      <th>5</th>\n      <td>0.050975</td>\n      <td>(S101 - Class names should comply with a naming convention)</td>\n    </tr>\n    <tr>\n      <th>6</th>\n      <td>0.185666</td>\n      <td>(S121 - Control structures should use curly braces, S1192 - String literals should not be duplicated)</td>\n    </tr>\n    <tr>\n      <th>7</th>\n      <td>0.066412</td>\n      <td>(S1192 - String literals should not be duplicated, S3776 - Cognitive Complexity of functions should not be too high)</td>\n    </tr>\n    <tr>\n      <th>8</th>\n      <td>0.061154</td>\n      <td>(S121 - Control structures should use curly braces, S3776 - Cognitive Complexity of functions should not be too high)</td>\n    </tr>\n    <tr>\n      <th>9</th>\n      <td>0.051315</td>\n      <td>(S1192 - String literals should not be duplicated, S1481 - Unused local variables should be removed)</td>\n    </tr>\n  </tbody>\n</table>\n</div>"
     },
     "metadata": {},
     "output_type": "display_data"
    },
    {
     "data": {
      "text/plain": "                                                          antecedents  ... conviction\n0                 (S121 - Control structures should use curly braces)  ...   0.742651\n1                  (S1192 - String literals should not be duplicated)  ...   0.815414\n2                  (S1192 - String literals should not be duplicated)  ...   1.016704\n3  (S3776 - Cognitive Complexity of functions should not be too high)  ...   1.221208\n4                 (S121 - Control structures should use curly braces)  ...   1.035567\n5  (S3776 - Cognitive Complexity of functions should not be too high)  ...   1.328679\n6                  (S1192 - String literals should not be duplicated)  ...   1.023071\n7                  (S1481 - Unused local variables should be removed)  ...   1.610325\n\n[8 rows x 9 columns]",
      "text/html": "<div>\n<style scoped>\n    .dataframe tbody tr th:only-of-type {\n        vertical-align: middle;\n    }\n\n    .dataframe tbody tr th {\n        vertical-align: top;\n    }\n\n    .dataframe thead th {\n        text-align: right;\n    }\n</style>\n<table border=\"1\" class=\"dataframe\">\n  <thead>\n    <tr style=\"text-align: right;\">\n      <th></th>\n      <th>antecedents</th>\n      <th>consequents</th>\n      <th>antecedent support</th>\n      <th>consequent support</th>\n      <th>support</th>\n      <th>confidence</th>\n      <th>lift</th>\n      <th>leverage</th>\n      <th>conviction</th>\n    </tr>\n  </thead>\n  <tbody>\n    <tr>\n      <th>0</th>\n      <td>(S121 - Control structures should use curly braces)</td>\n      <td>(S1192 - String literals should not be duplicated)</td>\n      <td>0.454623</td>\n      <td>0.560645</td>\n      <td>0.185666</td>\n      <td>0.408396</td>\n      <td>0.728439</td>\n      <td>-0.069216</td>\n      <td>0.742651</td>\n    </tr>\n    <tr>\n      <th>1</th>\n      <td>(S1192 - String literals should not be duplicated)</td>\n      <td>(S121 - Control structures should use curly braces)</td>\n      <td>0.560645</td>\n      <td>0.454623</td>\n      <td>0.185666</td>\n      <td>0.331165</td>\n      <td>0.728439</td>\n      <td>-0.069216</td>\n      <td>0.815414</td>\n    </tr>\n    <tr>\n      <th>2</th>\n      <td>(S1192 - String literals should not be duplicated)</td>\n      <td>(S3776 - Cognitive Complexity of functions should not be too high)</td>\n      <td>0.560645</td>\n      <td>0.103732</td>\n      <td>0.066412</td>\n      <td>0.118457</td>\n      <td>1.141951</td>\n      <td>0.008255</td>\n      <td>1.016704</td>\n    </tr>\n    <tr>\n      <th>3</th>\n      <td>(S3776 - Cognitive Complexity of functions should not be too high)</td>\n      <td>(S1192 - String literals should not be duplicated)</td>\n      <td>0.103732</td>\n      <td>0.560645</td>\n      <td>0.066412</td>\n      <td>0.640229</td>\n      <td>1.141951</td>\n      <td>0.008255</td>\n      <td>1.221208</td>\n    </tr>\n    <tr>\n      <th>4</th>\n      <td>(S121 - Control structures should use curly braces)</td>\n      <td>(S3776 - Cognitive Complexity of functions should not be too high)</td>\n      <td>0.454623</td>\n      <td>0.103732</td>\n      <td>0.061154</td>\n      <td>0.134515</td>\n      <td>1.296755</td>\n      <td>0.013995</td>\n      <td>1.035567</td>\n    </tr>\n    <tr>\n      <th>5</th>\n      <td>(S3776 - Cognitive Complexity of functions should not be too high)</td>\n      <td>(S121 - Control structures should use curly braces)</td>\n      <td>0.103732</td>\n      <td>0.454623</td>\n      <td>0.061154</td>\n      <td>0.589534</td>\n      <td>1.296755</td>\n      <td>0.013995</td>\n      <td>1.328679</td>\n    </tr>\n    <tr>\n      <th>6</th>\n      <td>(S1192 - String literals should not be duplicated)</td>\n      <td>(S1481 - Unused local variables should be removed)</td>\n      <td>0.560645</td>\n      <td>0.070568</td>\n      <td>0.051315</td>\n      <td>0.091528</td>\n      <td>1.297013</td>\n      <td>0.011751</td>\n      <td>1.023071</td>\n    </tr>\n    <tr>\n      <th>7</th>\n      <td>(S1481 - Unused local variables should be removed)</td>\n      <td>(S1192 - String literals should not be duplicated)</td>\n      <td>0.070568</td>\n      <td>0.560645</td>\n      <td>0.051315</td>\n      <td>0.727163</td>\n      <td>1.297013</td>\n      <td>0.011751</td>\n      <td>1.610325</td>\n    </tr>\n  </tbody>\n</table>\n</div>"
     },
     "metadata": {},
     "output_type": "display_data"
    }
   ],
   "source": [
    "from IPython.core.display import display\n",
    "import pyodbc\n",
    "import pandas as pd\n",
    "from mlxtend.preprocessing import TransactionEncoder\n",
    "from mlxtend.frequent_patterns import apriori,association_rules, fpmax, fpgrowth\n",
    "from Query import Query\n",
    "\n",
    "from configuration import Configuration\n",
    "pd.set_option('display.max_rows', None)\n",
    "pd.set_option('display.max_colwidth', 500)\n",
    "pd.set_option('display.max_columns', 0)\n",
    "\n",
    "conn = pyodbc.connect(Configuration.getConfigValue('database_connection'))\n",
    "supportStr = Configuration.getConfigValue('QUESTION3_METRIC1_SUPORT')\n",
    "support = float(supportStr)\n",
    "query = Query.getQuery('query_3_1')\n",
    "result = pd.read_sql_query(query,conn)\n",
    "dataframes = pd.DataFrame(result)\n",
    "\n",
    "if(len(dataframes) == 0):\n",
    "    display(\"No data to analyze\")\n",
    "else:\n",
    "    dataframes = pd.pivot_table(dataframes,  index=\"ID_COMMIT\", columns=['RULE_DESCRIPTION'],values=\"VALOR\")\n",
    "    dataset = []\n",
    "\n",
    "    for i in range(0, len(dataframes)):\n",
    "        datasetI = []\n",
    "        for j in range(0, len(dataframes.columns)):\n",
    "            if str(dataframes.values[i,j]) == \"1.0\"  :\n",
    "                datasetI.append( str(dataframes.columns[j]))\n",
    "        dataset.append(datasetI)\n",
    "        datasetI = []\n",
    "\n",
    "    te = TransactionEncoder()\n",
    "    te_ary = te.fit(dataset).transform(dataset)\n",
    "    df = pd.DataFrame(te_ary, columns=te.columns_)\n",
    "    frequent_itemsets = fpgrowth(df, min_support=0.05, use_colnames=True)\n",
    "    display(frequent_itemsets)\n",
    "    rules = association_rules(frequent_itemsets, metric=\"support\", min_threshold=0.05)\n",
    "    display(rules)\n"
   ]
  },
  {
   "cell_type": "code",
   "execution_count": 2,
   "metadata": {},
   "outputs": [],
   "source": []
  }
 ],
 "metadata": {
  "kernelspec": {
   "display_name": "Python 3 (ipykernel)",
   "language": "python",
   "name": "python3"
  },
  "language_info": {
   "codemirror_mode": {
    "name": "ipython",
    "version": 3
   },
   "file_extension": ".py",
   "mimetype": "text/x-python",
   "name": "python",
   "nbconvert_exporter": "python",
   "pygments_lexer": "ipython3",
   "version": "3.7.8"
  }
 },
 "nbformat": 4,
 "nbformat_minor": 4
}