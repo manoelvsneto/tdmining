{
 "cells": [
  {
   "cell_type": "code",
   "execution_count": 4,
   "metadata": {
    "pycharm": {
     "name": "#%%\n"
    },
    "tags": []
   },
   "outputs": [
    {
     "data": {
      "text/plain": "'Quantidade de desenvolvedores com code smell fechado: 92'"
     },
     "metadata": {},
     "output_type": "display_data"
    },
    {
     "data": {
      "text/plain": "'Quantidade de code smell fechado: 62052'"
     },
     "metadata": {},
     "output_type": "display_data"
    },
    {
     "data": {
      "text/plain": "    ID_DEVELOPER  TOTAL\n0            110  14040\n1             42   7874\n2             12   6863\n3             13   5307\n4            112   4945\n5             83   4453\n6            100   1960\n7             81   1739\n8            113   1448\n9             24   1401\n10           114   1097\n11            17   1072\n12            26    926\n13            90    919\n14           109    713\n15            89    599\n16            78    536\n17            62    507\n18            37    506\n19            20    446\n20            54    442\n21           120    404\n22             2    305\n23           108    303\n24            36    301\n25            45    296\n26            66    244\n27            29    244\n28            40    203\n29            25    182\n30            30    137\n31            76    129\n32            65    118\n33            97    116\n34            10    113\n35             7     93\n36             4     81\n37            43     62\n38            28     61\n39           111     52\n40           104     51\n41           122     49\n42            58     49\n43            53     47\n44            84     47\n45            93     45\n46           101     40\n47            38     39\n48            48     36\n49            72     31\n50            21     29\n51            95     26\n52            32     25\n53            68     24\n54            47     24\n55            99     23\n56           121     21\n57           115     20\n58            59     19\n59             1     19\n60           106     17\n61           116     16\n62            27     14\n63            52     14\n64            71     12\n65            34      9\n66            69      8\n67            41      8\n68            91      7\n69           102      4\n70           118      4\n71            92      3\n72            70      3\n73            33      3\n74            19      3\n75            18      2\n76             8      2\n77            15      2\n78            16      2\n79            86      2\n80            80      2\n81            55      2\n82            64      2\n83           119      2\n84            96      1\n85           117      1\n86            75      1\n87            14      1\n88            22      1\n89            23      1\n90             5      1\n91             3      1",
      "text/html": "<div>\n<style scoped>\n    .dataframe tbody tr th:only-of-type {\n        vertical-align: middle;\n    }\n\n    .dataframe tbody tr th {\n        vertical-align: top;\n    }\n\n    .dataframe thead th {\n        text-align: right;\n    }\n</style>\n<table border=\"1\" class=\"dataframe\">\n  <thead>\n    <tr style=\"text-align: right;\">\n      <th></th>\n      <th>ID_DEVELOPER</th>\n      <th>TOTAL</th>\n    </tr>\n  </thead>\n  <tbody>\n    <tr>\n      <th>0</th>\n      <td>110</td>\n      <td>14040</td>\n    </tr>\n    <tr>\n      <th>1</th>\n      <td>42</td>\n      <td>7874</td>\n    </tr>\n    <tr>\n      <th>2</th>\n      <td>12</td>\n      <td>6863</td>\n    </tr>\n    <tr>\n      <th>3</th>\n      <td>13</td>\n      <td>5307</td>\n    </tr>\n    <tr>\n      <th>4</th>\n      <td>112</td>\n      <td>4945</td>\n    </tr>\n    <tr>\n      <th>5</th>\n      <td>83</td>\n      <td>4453</td>\n    </tr>\n    <tr>\n      <th>6</th>\n      <td>100</td>\n      <td>1960</td>\n    </tr>\n    <tr>\n      <th>7</th>\n      <td>81</td>\n      <td>1739</td>\n    </tr>\n    <tr>\n      <th>8</th>\n      <td>113</td>\n      <td>1448</td>\n    </tr>\n    <tr>\n      <th>9</th>\n      <td>24</td>\n      <td>1401</td>\n    </tr>\n    <tr>\n      <th>10</th>\n      <td>114</td>\n      <td>1097</td>\n    </tr>\n    <tr>\n      <th>11</th>\n      <td>17</td>\n      <td>1072</td>\n    </tr>\n    <tr>\n      <th>12</th>\n      <td>26</td>\n      <td>926</td>\n    </tr>\n    <tr>\n      <th>13</th>\n      <td>90</td>\n      <td>919</td>\n    </tr>\n    <tr>\n      <th>14</th>\n      <td>109</td>\n      <td>713</td>\n    </tr>\n    <tr>\n      <th>15</th>\n      <td>89</td>\n      <td>599</td>\n    </tr>\n    <tr>\n      <th>16</th>\n      <td>78</td>\n      <td>536</td>\n    </tr>\n    <tr>\n      <th>17</th>\n      <td>62</td>\n      <td>507</td>\n    </tr>\n    <tr>\n      <th>18</th>\n      <td>37</td>\n      <td>506</td>\n    </tr>\n    <tr>\n      <th>19</th>\n      <td>20</td>\n      <td>446</td>\n    </tr>\n    <tr>\n      <th>20</th>\n      <td>54</td>\n      <td>442</td>\n    </tr>\n    <tr>\n      <th>21</th>\n      <td>120</td>\n      <td>404</td>\n    </tr>\n    <tr>\n      <th>22</th>\n      <td>2</td>\n      <td>305</td>\n    </tr>\n    <tr>\n      <th>23</th>\n      <td>108</td>\n      <td>303</td>\n    </tr>\n    <tr>\n      <th>24</th>\n      <td>36</td>\n      <td>301</td>\n    </tr>\n    <tr>\n      <th>25</th>\n      <td>45</td>\n      <td>296</td>\n    </tr>\n    <tr>\n      <th>26</th>\n      <td>66</td>\n      <td>244</td>\n    </tr>\n    <tr>\n      <th>27</th>\n      <td>29</td>\n      <td>244</td>\n    </tr>\n    <tr>\n      <th>28</th>\n      <td>40</td>\n      <td>203</td>\n    </tr>\n    <tr>\n      <th>29</th>\n      <td>25</td>\n      <td>182</td>\n    </tr>\n    <tr>\n      <th>30</th>\n      <td>30</td>\n      <td>137</td>\n    </tr>\n    <tr>\n      <th>31</th>\n      <td>76</td>\n      <td>129</td>\n    </tr>\n    <tr>\n      <th>32</th>\n      <td>65</td>\n      <td>118</td>\n    </tr>\n    <tr>\n      <th>33</th>\n      <td>97</td>\n      <td>116</td>\n    </tr>\n    <tr>\n      <th>34</th>\n      <td>10</td>\n      <td>113</td>\n    </tr>\n    <tr>\n      <th>35</th>\n      <td>7</td>\n      <td>93</td>\n    </tr>\n    <tr>\n      <th>36</th>\n      <td>4</td>\n      <td>81</td>\n    </tr>\n    <tr>\n      <th>37</th>\n      <td>43</td>\n      <td>62</td>\n    </tr>\n    <tr>\n      <th>38</th>\n      <td>28</td>\n      <td>61</td>\n    </tr>\n    <tr>\n      <th>39</th>\n      <td>111</td>\n      <td>52</td>\n    </tr>\n    <tr>\n      <th>40</th>\n      <td>104</td>\n      <td>51</td>\n    </tr>\n    <tr>\n      <th>41</th>\n      <td>122</td>\n      <td>49</td>\n    </tr>\n    <tr>\n      <th>42</th>\n      <td>58</td>\n      <td>49</td>\n    </tr>\n    <tr>\n      <th>43</th>\n      <td>53</td>\n      <td>47</td>\n    </tr>\n    <tr>\n      <th>44</th>\n      <td>84</td>\n      <td>47</td>\n    </tr>\n    <tr>\n      <th>45</th>\n      <td>93</td>\n      <td>45</td>\n    </tr>\n    <tr>\n      <th>46</th>\n      <td>101</td>\n      <td>40</td>\n    </tr>\n    <tr>\n      <th>47</th>\n      <td>38</td>\n      <td>39</td>\n    </tr>\n    <tr>\n      <th>48</th>\n      <td>48</td>\n      <td>36</td>\n    </tr>\n    <tr>\n      <th>49</th>\n      <td>72</td>\n      <td>31</td>\n    </tr>\n    <tr>\n      <th>50</th>\n      <td>21</td>\n      <td>29</td>\n    </tr>\n    <tr>\n      <th>51</th>\n      <td>95</td>\n      <td>26</td>\n    </tr>\n    <tr>\n      <th>52</th>\n      <td>32</td>\n      <td>25</td>\n    </tr>\n    <tr>\n      <th>53</th>\n      <td>68</td>\n      <td>24</td>\n    </tr>\n    <tr>\n      <th>54</th>\n      <td>47</td>\n      <td>24</td>\n    </tr>\n    <tr>\n      <th>55</th>\n      <td>99</td>\n      <td>23</td>\n    </tr>\n    <tr>\n      <th>56</th>\n      <td>121</td>\n      <td>21</td>\n    </tr>\n    <tr>\n      <th>57</th>\n      <td>115</td>\n      <td>20</td>\n    </tr>\n    <tr>\n      <th>58</th>\n      <td>59</td>\n      <td>19</td>\n    </tr>\n    <tr>\n      <th>59</th>\n      <td>1</td>\n      <td>19</td>\n    </tr>\n    <tr>\n      <th>60</th>\n      <td>106</td>\n      <td>17</td>\n    </tr>\n    <tr>\n      <th>61</th>\n      <td>116</td>\n      <td>16</td>\n    </tr>\n    <tr>\n      <th>62</th>\n      <td>27</td>\n      <td>14</td>\n    </tr>\n    <tr>\n      <th>63</th>\n      <td>52</td>\n      <td>14</td>\n    </tr>\n    <tr>\n      <th>64</th>\n      <td>71</td>\n      <td>12</td>\n    </tr>\n    <tr>\n      <th>65</th>\n      <td>34</td>\n      <td>9</td>\n    </tr>\n    <tr>\n      <th>66</th>\n      <td>69</td>\n      <td>8</td>\n    </tr>\n    <tr>\n      <th>67</th>\n      <td>41</td>\n      <td>8</td>\n    </tr>\n    <tr>\n      <th>68</th>\n      <td>91</td>\n      <td>7</td>\n    </tr>\n    <tr>\n      <th>69</th>\n      <td>102</td>\n      <td>4</td>\n    </tr>\n    <tr>\n      <th>70</th>\n      <td>118</td>\n      <td>4</td>\n    </tr>\n    <tr>\n      <th>71</th>\n      <td>92</td>\n      <td>3</td>\n    </tr>\n    <tr>\n      <th>72</th>\n      <td>70</td>\n      <td>3</td>\n    </tr>\n    <tr>\n      <th>73</th>\n      <td>33</td>\n      <td>3</td>\n    </tr>\n    <tr>\n      <th>74</th>\n      <td>19</td>\n      <td>3</td>\n    </tr>\n    <tr>\n      <th>75</th>\n      <td>18</td>\n      <td>2</td>\n    </tr>\n    <tr>\n      <th>76</th>\n      <td>8</td>\n      <td>2</td>\n    </tr>\n    <tr>\n      <th>77</th>\n      <td>15</td>\n      <td>2</td>\n    </tr>\n    <tr>\n      <th>78</th>\n      <td>16</td>\n      <td>2</td>\n    </tr>\n    <tr>\n      <th>79</th>\n      <td>86</td>\n      <td>2</td>\n    </tr>\n    <tr>\n      <th>80</th>\n      <td>80</td>\n      <td>2</td>\n    </tr>\n    <tr>\n      <th>81</th>\n      <td>55</td>\n      <td>2</td>\n    </tr>\n    <tr>\n      <th>82</th>\n      <td>64</td>\n      <td>2</td>\n    </tr>\n    <tr>\n      <th>83</th>\n      <td>119</td>\n      <td>2</td>\n    </tr>\n    <tr>\n      <th>84</th>\n      <td>96</td>\n      <td>1</td>\n    </tr>\n    <tr>\n      <th>85</th>\n      <td>117</td>\n      <td>1</td>\n    </tr>\n    <tr>\n      <th>86</th>\n      <td>75</td>\n      <td>1</td>\n    </tr>\n    <tr>\n      <th>87</th>\n      <td>14</td>\n      <td>1</td>\n    </tr>\n    <tr>\n      <th>88</th>\n      <td>22</td>\n      <td>1</td>\n    </tr>\n    <tr>\n      <th>89</th>\n      <td>23</td>\n      <td>1</td>\n    </tr>\n    <tr>\n      <th>90</th>\n      <td>5</td>\n      <td>1</td>\n    </tr>\n    <tr>\n      <th>91</th>\n      <td>3</td>\n      <td>1</td>\n    </tr>\n  </tbody>\n</table>\n</div>"
     },
     "metadata": {},
     "output_type": "display_data"
    }
   ],
   "source": [
    "import pyodbc\n",
    "import pandas as pd\n",
    "from IPython.display import display\n",
    "import matplotlib.pyplot as plt\n",
    "from Query import Query\n",
    "from configuration import Configuration\n",
    "query = Query.getQuery('query_1_2')\n",
    "conn = pyodbc.connect(Configuration.getConfigValue('database_connection'))\n",
    "pd.set_option('display.max_rows', None)\n",
    "pd.set_option('display.max_colwidth', 200)\n",
    "pd.set_option('display.max_columns', 0)\n",
    "query_result = pd.read_sql_query(query,conn)\n",
    "dataframes = pd.DataFrame(query_result)\n",
    "if len(dataframes) == 0:\n",
    "     display(\"Não há dados para analisar\")\n",
    "else:\n",
    "    plt.show()\n",
    "    display(\"Quantidade de desenvolvedores com code smell fechado: \" + str(len(dataframes)))\n",
    "    display(\"Quantidade de code smell fechado: \" + str(dataframes[\"TOTAL\"].sum()))\n",
    "    display(dataframes)"
   ]
  },
  {
   "cell_type": "code",
   "execution_count": 4,
   "metadata": {
    "pycharm": {
     "name": "#%%"
    }
   },
   "outputs": [],
   "source": []
  }
 ],
 "metadata": {
  "kernelspec": {
   "display_name": "Python 3",
   "language": "python",
   "name": "python3"
  },
  "language_info": {
   "codemirror_mode": {
    "name": "ipython",
    "version": 3
   },
   "file_extension": ".py",
   "mimetype": "text/x-python",
   "name": "python",
   "nbconvert_exporter": "python",
   "pygments_lexer": "ipython3",
   "version": "3.8.5"
  }
 },
 "nbformat": 4,
 "nbformat_minor": 4
}